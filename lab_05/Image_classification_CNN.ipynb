{
  "cells": [
    {
      "cell_type": "markdown",
      "metadata": {
        "id": "view-in-github",
        "colab_type": "text"
      },
      "source": [
        "<a href=\"https://colab.research.google.com/github/Cris12Mainz/Deep-Learning/blob/main/lab_05/Image_classification_CNN.ipynb\" target=\"_parent\"><img src=\"https://colab.research.google.com/assets/colab-badge.svg\" alt=\"Open In Colab\"/></a>"
      ]
    },
    {
      "cell_type": "markdown",
      "metadata": {
        "id": "aJNiwKpqrUoP"
      },
      "source": [
        "<img align=\"center\" style=\"max-width: 1000px\" src=\"https://github.com/HSG-AIML-Teaching/GSERM2025-Lab/blob/main/lab_05/banner.png?raw=1\">"
      ]
    },
    {
      "cell_type": "markdown",
      "metadata": {
        "id": "B0cP5Z789_rr"
      },
      "source": [
        "<img align=\"right\" style=\"max-width: 200px; height: auto\" src=\"https://github.com/HSG-AIML-Teaching/GSERM2025-Lab/blob/main/lab_05/hsg_logo.png?raw=1\">\n",
        "\n",
        "##  Lab 05 - Convolutional Neural Networks\n",
        "\n",
        "GSERM Summer School 2025, Deep Learning: Fundamentals and Applications, University of St. Gallen"
      ]
    },
    {
      "cell_type": "markdown",
      "metadata": {
        "id": "zuYHWwtmrUoR"
      },
      "source": [
        "The lab environment is based on Jupyter Notebooks (https://jupyter.org), which provide an interactive platform for performing a variety of statistical evaluations and data analyses. In this lab, we will learn how to enhance vanilla **Artificial Neural Networks (ANNs)** using `PyTorch` to classify even more complex images. We will explore a special type of deep neural network known as **Convolutional Neural Networks (CNNs)** to achieve this. CNNs leverage the hierarchical pattern in data, allowing them to assemble more complex patterns from smaller, simpler ones. This hierarchical structure enables CNNs to learn a set of discriminative features and subsequently utilize these learned patterns to classify the content of an image."
      ]
    },
    {
      "cell_type": "markdown",
      "metadata": {
        "id": "Rno8GqfC9_rz"
      },
      "source": [
        "The history of CNNs is rich and exhibits pivotal contributions from researchers like *Yann LeCun*, who developed the first practical CNN, known as **LeNet**, in the late 1980s. CNNs have since become a cornerstone in deep learning, significantly advancing the capabilities of image recognition and classification.\n",
        "\n",
        "In this lab, we will use the `PyTorch` library to implement and train a CNN-based neural network. Our network will be trained on tiny images from the **CIFAR-10** dataset, which includes aeroplanes, cars, birds, cats, deer, dogs, frogs, horses, ships, and trucks. We will utilize the learned CNN model to classify previously unseen images into these distinct categories upon successful training.\n",
        "\n",
        "The figure below illustrates a high-level view of the machine learning process we aim to establish in this lab."
      ]
    },
    {
      "cell_type": "markdown",
      "metadata": {
        "id": "nswYOXvk9_r0"
      },
      "source": [
        "<img align=\"center\" style=\"max-width: 900px\" src=\"https://github.com/HSG-AIML-Teaching/GSERM2025-Lab/blob/main/lab_05/splash.png?raw=1\">"
      ]
    },
    {
      "cell_type": "markdown",
      "metadata": {
        "id": "r93JK2DH9_r0"
      },
      "source": [
        "(Image of the CNN architecture created via http://alexlenail.me/)\n",
        "\n",
        "As always, pls. don't hesitate to ask all your questions either during the lab, post them in our CANVAS (StudyNet) forum (https://learning.unisg.ch), or send us an email (using the course email)."
      ]
    },
    {
      "cell_type": "markdown",
      "metadata": {
        "id": "l6AMCoz7rUoS"
      },
      "source": [
        "Before we start let's watch a motivational video:"
      ]
    },
    {
      "cell_type": "code",
      "execution_count": null,
      "metadata": {
        "id": "FhhAaB33rUoS"
      },
      "outputs": [],
      "source": [
        "from IPython.display import YouTubeVideo\n",
        "# Official Intro | GTC 2017 | I AM AI\"\n",
        "# YouTubeVideo('SUNPrR4o5ZA', width=800, height=400)"
      ]
    },
    {
      "cell_type": "markdown",
      "metadata": {
        "id": "eW6dySzs9_r1"
      },
      "source": [
        "## 1. Lab Objectives:"
      ]
    },
    {
      "cell_type": "markdown",
      "metadata": {
        "id": "2uzc9Xr69_r1"
      },
      "source": [
        "After today's lab, you should be able to:\n",
        "\n",
        "> 1. **Understand Convolutional Neural (CNN) Network Design:** Learn the fundamental concepts and architectural design of CNNs.\n",
        "> 2. **Implement and Train a CNN Model:** Gain hands-on experience with PyTorch to implement, train, and evaluate CNN models.\n",
        "> 3. **Apply CNN models for Image Classification:** Use CNNs to classify images from the CIFAR-10 dataset, which includes categories such as aeroplanes, cars, birds, and more.\n",
        "> 4. **Evaluate and Interpret Model Performance:** Evaluate the CNN model's classification results using accuracy metrics and interpret the confusion matrix."
      ]
    },
    {
      "cell_type": "markdown",
      "metadata": {
        "id": "iPRKkkig9_r2"
      },
      "source": [
        "## 2. Setup of the Jupyter Notebook Environment"
      ]
    },
    {
      "cell_type": "markdown",
      "metadata": {
        "id": "7mZL4i6W9_r2"
      },
      "source": [
        "Similar to the previous labs, we need to import several Python libraries that facilitate data analysis and visualization. We will primarily use `PyTorch`, `NumPy`, `Scikit-learn`, `Matplotlib`, `Seaborn`, and a few utility libraries throughout this lab:"
      ]
    },
    {
      "cell_type": "code",
      "execution_count": 3,
      "metadata": {
        "id": "A9cwWtab9_r2"
      },
      "outputs": [],
      "source": [
        "# import standard python libraries\n",
        "import os, urllib, io\n",
        "from datetime import datetime\n",
        "import numpy as np"
      ]
    },
    {
      "cell_type": "markdown",
      "metadata": {
        "id": "FrB_51t89_r3"
      },
      "source": [
        "Import `Python` machine learning and deep learning libraries:"
      ]
    },
    {
      "cell_type": "code",
      "execution_count": 2,
      "metadata": {
        "id": "ZH6LhB_q9_r3"
      },
      "outputs": [],
      "source": [
        "# import the PyTorch deep learning library\n",
        "import torch, torchvision\n",
        "import torch.nn.functional as F\n",
        "from torch import nn, optim\n",
        "from torch.autograd import Variable"
      ]
    },
    {
      "cell_type": "markdown",
      "metadata": {
        "id": "sfgYux7K9_r3"
      },
      "source": [
        "Import `Scikit-learn` classification metrics:"
      ]
    },
    {
      "cell_type": "code",
      "execution_count": 4,
      "metadata": {
        "id": "cFptYrnr9_r4"
      },
      "outputs": [],
      "source": [
        "# import sklearn classification evaluation library\n",
        "from sklearn import metrics\n",
        "from sklearn.metrics import classification_report, confusion_matrix"
      ]
    },
    {
      "cell_type": "markdown",
      "metadata": {
        "id": "WJJ5kfaf9_r4"
      },
      "source": [
        "Import `Matplotlib`, `Seaborn` and `PIL` data visualization libraries:"
      ]
    },
    {
      "cell_type": "code",
      "execution_count": 5,
      "metadata": {
        "id": "usAgsocK9_r4"
      },
      "outputs": [],
      "source": [
        "# import matplotlib, seaborn, and PIL data visualization library\n",
        "import matplotlib.pyplot as plt\n",
        "import seaborn as sns\n",
        "from PIL import Image"
      ]
    },
    {
      "cell_type": "markdown",
      "metadata": {
        "id": "kZft6q1B9_r5"
      },
      "source": [
        "Enable inline plotting with `Matplotlib`:"
      ]
    },
    {
      "cell_type": "code",
      "execution_count": 6,
      "metadata": {
        "id": "BXnX3zt_9_r5"
      },
      "outputs": [],
      "source": [
        "%matplotlib inline"
      ]
    },
    {
      "cell_type": "markdown",
      "metadata": {
        "id": "dn2cf5SqJ2m9"
      },
      "source": [
        "Import Google's `GDrive` connector and mount your `GDrive` directories:"
      ]
    },
    {
      "cell_type": "code",
      "execution_count": 7,
      "metadata": {
        "id": "m2rj2ThhJ3sA",
        "outputId": "7039e78c-08c5-4015-e4a2-53e6917e81b1",
        "colab": {
          "base_uri": "https://localhost:8080/"
        }
      },
      "outputs": [
        {
          "output_type": "stream",
          "name": "stdout",
          "text": [
            "Mounted at /content/drive\n"
          ]
        }
      ],
      "source": [
        "# import the Google Colab GDrive connector\n",
        "from google.colab import drive\n",
        "\n",
        "# mount GDrive inside the Colab notebook\n",
        "drive.mount('/content/drive')"
      ]
    },
    {
      "cell_type": "markdown",
      "metadata": {
        "id": "-58e-iazJ8Aq"
      },
      "source": [
        "Create a structure of Colab Notebook sub-directories inside of GDrive to store (1) the data as well as (2) the trained neural network models:"
      ]
    },
    {
      "cell_type": "code",
      "execution_count": 8,
      "metadata": {
        "id": "LtB6DCWjJ-gD"
      },
      "outputs": [],
      "source": [
        "# create Colab Notebooks directory\n",
        "notebook_directory = '/content/drive/MyDrive/Colab Notebooks'\n",
        "if not os.path.exists(notebook_directory): os.makedirs(notebook_directory)\n",
        "\n",
        " # create data sub-directory inside the Colab Notebooks directory\n",
        "data_directory = '/content/drive/MyDrive/Colab Notebooks/data_cifar10'\n",
        "if not os.path.exists(data_directory): os.makedirs(data_directory)\n",
        "\n",
        " # create models sub-directory inside the Colab Notebooks directory\n",
        "models_directory = '/content/drive/MyDrive/Colab Notebooks/models_cifar10'\n",
        "if not os.path.exists(models_directory): os.makedirs(models_directory)"
      ]
    },
    {
      "cell_type": "markdown",
      "metadata": {
        "id": "wcYgp4Gl9_r6"
      },
      "source": [
        "Set a random `seed` value to obtain reproducible results:"
      ]
    },
    {
      "cell_type": "code",
      "execution_count": 9,
      "metadata": {
        "id": "vdbqEjHb9_r7",
        "outputId": "e200a694-1137-43b2-e275-a9cdb91f94fd",
        "colab": {
          "base_uri": "https://localhost:8080/"
        }
      },
      "outputs": [
        {
          "output_type": "execute_result",
          "data": {
            "text/plain": [
              "<torch._C.Generator at 0x7dfaadb76970>"
            ]
          },
          "metadata": {},
          "execution_count": 9
        }
      ],
      "source": [
        "# init deterministic seed\n",
        "seed_value = 1234\n",
        "np.random.seed(seed_value) # set numpy seed\n",
        "torch.manual_seed(seed_value) # set pytorch seed CPU"
      ]
    },
    {
      "cell_type": "markdown",
      "metadata": {
        "id": "zpKQNDr09_r7"
      },
      "source": [
        "Google Colab provides free GPUs for running notebooks. However, if you execute this notebook as is, it will use your device's CPU. To run the lab on a GPU, go to `Runtime` > `Change runtime type` and set the Runtime type to `GPU` in the drop-down menu. Running this lab on a CPU is fine, but you will find that GPU computing is faster. *CUDA* indicates that the lab is being run on a GPU.\n",
        "\n",
        "Enable GPU computing by setting the device flag and initializing a CUDA seed:"
      ]
    },
    {
      "cell_type": "code",
      "execution_count": 10,
      "metadata": {
        "id": "IAFg7INc9_r7",
        "outputId": "8d267e8e-8c5d-494b-87fc-a4c2adc5fa1f",
        "colab": {
          "base_uri": "https://localhost:8080/"
        }
      },
      "outputs": [
        {
          "output_type": "stream",
          "name": "stdout",
          "text": [
            "[LOG] notebook with cuda computation enabled\n"
          ]
        }
      ],
      "source": [
        "# set cpu or gpu enabled device\n",
        "device = torch.device('cuda' if torch.cuda.is_available() else 'cpu').type\n",
        "\n",
        "# init deterministic GPU seed\n",
        "torch.cuda.manual_seed(seed_value)\n",
        "\n",
        "# log type of device enabled\n",
        "print('[LOG] notebook with {} computation enabled'.format(str(device)))"
      ]
    },
    {
      "cell_type": "markdown",
      "metadata": {
        "id": "Y-7Ve4-_9_r7"
      },
      "source": [
        "Let's determine if we have access to a GPU provided by environments such as `Google Colab`:"
      ]
    },
    {
      "cell_type": "code",
      "execution_count": 11,
      "metadata": {
        "id": "VCpTB9x59_r8",
        "outputId": "3ff94d97-0a0a-4d26-d2cc-53117c814482",
        "colab": {
          "base_uri": "https://localhost:8080/"
        }
      },
      "outputs": [
        {
          "output_type": "stream",
          "name": "stdout",
          "text": [
            "Thu Jul 10 09:35:28 2025       \n",
            "+-----------------------------------------------------------------------------------------+\n",
            "| NVIDIA-SMI 550.54.15              Driver Version: 550.54.15      CUDA Version: 12.4     |\n",
            "|-----------------------------------------+------------------------+----------------------+\n",
            "| GPU  Name                 Persistence-M | Bus-Id          Disp.A | Volatile Uncorr. ECC |\n",
            "| Fan  Temp   Perf          Pwr:Usage/Cap |           Memory-Usage | GPU-Util  Compute M. |\n",
            "|                                         |                        |               MIG M. |\n",
            "|=========================================+========================+======================|\n",
            "|   0  NVIDIA L4                      Off |   00000000:00:03.0 Off |                    0 |\n",
            "| N/A   49C    P8             16W /   72W |       3MiB /  23034MiB |      0%      Default |\n",
            "|                                         |                        |                  N/A |\n",
            "+-----------------------------------------+------------------------+----------------------+\n",
            "                                                                                         \n",
            "+-----------------------------------------------------------------------------------------+\n",
            "| Processes:                                                                              |\n",
            "|  GPU   GI   CI        PID   Type   Process name                              GPU Memory |\n",
            "|        ID   ID                                                               Usage      |\n",
            "|=========================================================================================|\n",
            "|  No running processes found                                                             |\n",
            "+-----------------------------------------------------------------------------------------+\n"
          ]
        }
      ],
      "source": [
        "!nvidia-smi"
      ]
    },
    {
      "cell_type": "markdown",
      "metadata": {
        "id": "XH1CSkRV9_r8"
      },
      "source": [
        "## 3. Dataset Download and Data Assessment"
      ]
    },
    {
      "cell_type": "markdown",
      "metadata": {
        "id": "UWDn7IQE9_r8"
      },
      "source": [
        "The **CIFAR-10 database** (**C**anadian **I**nstitute **F**or **A**dvanced **R**esearch) is a collection of images commonly used to train machine learning and computer vision algorithms. The database is widely used to conduct computer vision research using machine learning and deep learning methods:"
      ]
    },
    {
      "cell_type": "markdown",
      "metadata": {
        "id": "awuRyFMd9_r8"
      },
      "source": [
        "<img align=\"center\" style=\"max-width: 500px; height: 500px\" src=\"https://github.com/HSG-AIML-Teaching/GSERM2025-Lab/blob/main/lab_05/cifar10.png?raw=1\">\n",
        "\n",
        "(Source: https://www.kaggle.com/c/cifar-10)"
      ]
    },
    {
      "cell_type": "markdown",
      "metadata": {
        "id": "pjdI5VVN9_r8"
      },
      "source": [
        "Further details on the dataset can be obtained via: *Krizhevsky, A., 2009. \"Learning Multiple Layers of Features from Tiny Images\",  \n",
        "( https://www.cs.toronto.edu/~kriz/learning-features-2009-TR.pdf ).*"
      ]
    },
    {
      "cell_type": "markdown",
      "metadata": {
        "id": "IaD13bmO9_r9"
      },
      "source": [
        "The CIFAR-10 database contains **60,000 color images** (50,000 training images and 10,000 validation images). The size of each image is 32 by 32 pixels. The collection of images encompasses 10 different classes: airplanes, cars, birds, cats, deer, dogs, frogs, horses, ships, and trucks. Let's define the distinct classes for further analysis:"
      ]
    },
    {
      "cell_type": "code",
      "execution_count": 12,
      "metadata": {
        "id": "1WlB2yXu9_r-"
      },
      "outputs": [],
      "source": [
        "cifar10_classes = ['plane', 'car', 'bird', 'cat', 'deer', 'dog', 'frog', 'horse', 'ship', 'truck']"
      ]
    },
    {
      "cell_type": "markdown",
      "metadata": {
        "id": "kRslZNGV9_r-"
      },
      "source": [
        "The dataset contains 6,000 images for each of the ten classes. CIFAR-10 is a straightforward dataset that can teach a computer how to recognize objects in images.\n",
        "\n",
        "Let's download, transform, and inspect the training images of the dataset. First, we will define the directory where we aim to store the training data:"
      ]
    },
    {
      "cell_type": "code",
      "execution_count": 13,
      "metadata": {
        "id": "B2Bmhc-c9_r-"
      },
      "outputs": [],
      "source": [
        "train_path = data_directory + '/train_cifar10'"
      ]
    },
    {
      "cell_type": "markdown",
      "metadata": {
        "id": "b6AGBP_K9_r_"
      },
      "source": [
        "Now, let's download the training data:"
      ]
    },
    {
      "cell_type": "code",
      "execution_count": 14,
      "metadata": {
        "id": "G_-Zs4EU9_sA"
      },
      "outputs": [],
      "source": [
        "# define pytorch transformation into tensor format\n",
        "transf = torchvision.transforms.Compose([torchvision.transforms.ToTensor(), torchvision.transforms.Normalize((0.5, 0.5, 0.5), (0.5, 0.5, 0.5))])\n",
        "\n",
        "# download and transform training images\n",
        "cifar10_train_data = torchvision.datasets.CIFAR10(root=train_path, train=True, transform=transf, download=True)"
      ]
    },
    {
      "cell_type": "markdown",
      "metadata": {
        "id": "g79sdHOw9_sA"
      },
      "source": [
        "Verify the volume of training images downloaded:"
      ]
    },
    {
      "cell_type": "code",
      "execution_count": 15,
      "metadata": {
        "id": "uiKFBLrI9_sA",
        "outputId": "ad41928f-5ed7-48f7-8a33-b36d35f975ad",
        "colab": {
          "base_uri": "https://localhost:8080/"
        }
      },
      "outputs": [
        {
          "output_type": "execute_result",
          "data": {
            "text/plain": [
              "50000"
            ]
          },
          "metadata": {},
          "execution_count": 15
        }
      ],
      "source": [
        "# get the length of the training data\n",
        "len(cifar10_train_data)"
      ]
    },
    {
      "cell_type": "markdown",
      "metadata": {
        "id": "CDDjW4jk9_sA"
      },
      "source": [
        "Next, let's investigate a couple of the training images:"
      ]
    },
    {
      "cell_type": "code",
      "execution_count": 16,
      "metadata": {
        "id": "h8j19ga29_sA",
        "outputId": "fa9320d3-1bee-4bde-a288-2b268bca0562",
        "colab": {
          "base_uri": "https://localhost:8080/"
        }
      },
      "outputs": [
        {
          "output_type": "execute_result",
          "data": {
            "text/plain": [
              "(tensor([[[ 0.0118, -0.0039,  0.0118,  ...,  0.0353,  0.0353,  0.0275],\n",
              "          [ 0.0039,  0.0039,  0.0118,  ...,  0.0275,  0.0275,  0.0196],\n",
              "          [ 0.0196,  0.0039,  0.0196,  ...,  0.0431,  0.0353,  0.0353],\n",
              "          ...,\n",
              "          [-0.2000, -0.2627, -0.4745,  ...,  0.0510,  0.0353,  0.0275],\n",
              "          [-0.1529, -0.2471, -0.3725,  ...,  0.0431,  0.0275,  0.0196],\n",
              "          [-0.1373, -0.3725, -0.4902,  ...,  0.0275,  0.0196,  0.0118]],\n",
              " \n",
              "         [[ 0.1922,  0.1765,  0.1922,  ...,  0.2000,  0.2000,  0.1922],\n",
              "          [ 0.1922,  0.1843,  0.1922,  ...,  0.1922,  0.1922,  0.1843],\n",
              "          [ 0.2000,  0.1843,  0.2000,  ...,  0.2078,  0.2000,  0.2000],\n",
              "          ...,\n",
              "          [-0.1137, -0.1843, -0.4667,  ...,  0.2314,  0.2157,  0.2078],\n",
              "          [-0.0667, -0.1451, -0.3569,  ...,  0.2235,  0.2078,  0.2000],\n",
              "          [-0.0588, -0.2471, -0.4588,  ...,  0.2078,  0.2000,  0.1922]],\n",
              " \n",
              "         [[ 0.5451,  0.5216,  0.5373,  ...,  0.5529,  0.5529,  0.5451],\n",
              "          [ 0.5373,  0.5216,  0.5373,  ...,  0.5451,  0.5451,  0.5373],\n",
              "          [ 0.5451,  0.5294,  0.5451,  ...,  0.5608,  0.5529,  0.5529],\n",
              "          ...,\n",
              "          [-0.6863, -0.6235, -0.7020,  ...,  0.5765,  0.5608,  0.5529],\n",
              "          [-0.6314, -0.5765, -0.5922,  ...,  0.5686,  0.5529,  0.5451],\n",
              "          [-0.5608, -0.6627, -0.6941,  ...,  0.5529,  0.5451,  0.5373]]]),\n",
              " 2)"
            ]
          },
          "metadata": {},
          "execution_count": 16
        }
      ],
      "source": [
        "# set (random) image id\n",
        "image_id = 1800\n",
        "\n",
        "# retrieve image exhibiting the image id\n",
        "cifar10_train_data[image_id]"
      ]
    },
    {
      "cell_type": "markdown",
      "metadata": {
        "id": "pZsiUhXb9_sB"
      },
      "source": [
        "Ok, that doesn't seem easily interpretable ;) Let's first separate the image from its label information:"
      ]
    },
    {
      "cell_type": "code",
      "execution_count": 17,
      "metadata": {
        "id": "oe3JTrQO9_sB"
      },
      "outputs": [],
      "source": [
        "cifar10_train_image, cifar10_train_label = cifar10_train_data[image_id]"
      ]
    },
    {
      "cell_type": "markdown",
      "metadata": {
        "id": "D7vnZCRy9_sB"
      },
      "source": [
        "Great, now we can visually inspect our sample image:"
      ]
    },
    {
      "cell_type": "code",
      "execution_count": 18,
      "metadata": {
        "id": "yNRCdqHO9_sB",
        "outputId": "6af9e709-9293-4479-bc27-43646e67cd33",
        "colab": {
          "base_uri": "https://localhost:8080/",
          "height": 469
        }
      },
      "outputs": [
        {
          "output_type": "execute_result",
          "data": {
            "text/plain": [
              "<matplotlib.image.AxesImage at 0x7df99c3a8f10>"
            ]
          },
          "metadata": {},
          "execution_count": 18
        },
        {
          "output_type": "display_data",
          "data": {
            "text/plain": [
              "<Figure size 640x480 with 1 Axes>"
            ],
            "image/png": "[encoded data removed]"
          },
          "metadata": {}
        }
      ],
      "source": [
        "# define tensor to image transformation\n",
        "trans = torchvision.transforms.ToPILImage()\n",
        "\n",
        "# set image plot title\n",
        "plt.title('Example: {}, Label: \"{}\"'.format(str(image_id), str(cifar10_classes[cifar10_train_label])))\n",
        "\n",
        "# un-normalize cifar 10 image sample\n",
        "cifar10_train_image_plot = cifar10_train_image / 2.0 + 0.5\n",
        "\n",
        "# plot 10 image sample\n",
        "plt.imshow(trans(cifar10_train_image_plot))"
      ]
    },
    {
      "cell_type": "markdown",
      "metadata": {
        "id": "mWcoDhr_9_sC"
      },
      "source": [
        "Fantastic, right? Now, let's decide where we want to store the evaluation data:"
      ]
    },
    {
      "cell_type": "code",
      "execution_count": 19,
      "metadata": {
        "id": "hKFBcveC9_sC"
      },
      "outputs": [],
      "source": [
        "eval_path = data_directory + '/eval_cifar10'"
      ]
    },
    {
      "cell_type": "markdown",
      "metadata": {
        "id": "nB5OpV4z9_sC"
      },
      "source": [
        "And download the evaluation data:"
      ]
    },
    {
      "cell_type": "code",
      "execution_count": 20,
      "metadata": {
        "id": "L-OOVFFs9_sD"
      },
      "outputs": [],
      "source": [
        "# define pytorch transformation into tensor format\n",
        "transf = torchvision.transforms.Compose([torchvision.transforms.ToTensor(), torchvision.transforms.Normalize((0.5, 0.5, 0.5), (0.5, 0.5, 0.5))])\n",
        "\n",
        "# download and transform validation images\n",
        "cifar10_eval_data = torchvision.datasets.CIFAR10(root=eval_path, train=False, transform=transf, download=True)"
      ]
    },
    {
      "cell_type": "markdown",
      "metadata": {
        "id": "WF4VrcHG9_sD"
      },
      "source": [
        "Verify the volume of downloaded validation images:"
      ]
    },
    {
      "cell_type": "code",
      "execution_count": 21,
      "metadata": {
        "id": "vhZRDL4X9_sD",
        "outputId": "b83822e5-d67f-4f6b-b84a-9549ade60354",
        "colab": {
          "base_uri": "https://localhost:8080/"
        }
      },
      "outputs": [
        {
          "output_type": "execute_result",
          "data": {
            "text/plain": [
              "10000"
            ]
          },
          "metadata": {},
          "execution_count": 21
        }
      ],
      "source": [
        "# get the length of the training data\n",
        "len(cifar10_eval_data)"
      ]
    },
    {
      "cell_type": "markdown",
      "metadata": {
        "id": "B9Xivz3j9_sD"
      },
      "source": [
        "## 4. Neural Network Implementation"
      ]
    },
    {
      "cell_type": "markdown",
      "metadata": {
        "id": "5Reatmz29_sD"
      },
      "source": [
        "In this section we, will implement the architecture of the **neural network** we aim to utilize to learn a model that is capable of classifying the **32x32 pixel** CIFAR 10 images according to the objects contained in each image. However, before we start the implementation, let's briefly revisit the process to be established. The following cartoon provides a birds-eye view:"
      ]
    },
    {
      "cell_type": "markdown",
      "metadata": {
        "id": "cLOtA61_9_sE"
      },
      "source": [
        "<img align=\"center\" style=\"max-width: 900px\" src=\"https://github.com/HSG-AIML-Teaching/GSERM2025-Lab/blob/main/lab_05/process.png?raw=1\">"
      ]
    },
    {
      "cell_type": "markdown",
      "metadata": {
        "id": "F1qQOztA9_sE"
      },
      "source": [
        "Our CNN, which we name 'CIFAR10Net', consists of two **convolutional layers** and three **fully-connected layers**. Convolutional layers are generally designed to learn a set of **high-level features** (patterns) in the processed images, such as tiny edges and shapes. The fully-connected layers utilize these learned features to form **non-linear feature combinations** that allow for highly accurate classification of the image content into the different classes of the CIFAR-10 dataset, such as birds, aeroplanes, and horses."
      ]
    },
    {
      "cell_type": "markdown",
      "metadata": {
        "id": "aLZ0MWtL9_sE"
      },
      "source": [
        "Let's implement the network architecture and subsequently take a more in-depth look at its details:"
      ]
    },
    {
      "cell_type": "code",
      "execution_count": 22,
      "metadata": {
        "id": "XU-lZiqJ9_sF"
      },
      "outputs": [],
      "source": [
        "# implement the CIFAR10Net network architecture\n",
        "class CIFAR10Net(nn.Module):\n",
        "\n",
        "    # define the class constructor\n",
        "    def __init__(self):\n",
        "\n",
        "        # call super class constructor\n",
        "        super(CIFAR10Net, self).__init__()\n",
        "\n",
        "        # specify convolution layer 1\n",
        "        self.conv1 = nn.Conv2d(in_channels=3, out_channels=6, kernel_size=5, stride=1, padding=0)\n",
        "\n",
        "        # define max-pooling layer 1\n",
        "        self.pool1 = nn.MaxPool2d(kernel_size=2, stride=2)\n",
        "\n",
        "        # specify convolution layer 2\n",
        "        self.conv2 = nn.Conv2d(in_channels=6, out_channels=16, kernel_size=5, stride=1, padding=0)\n",
        "\n",
        "        # define max-pooling layer 2\n",
        "        self.pool2 = nn.MaxPool2d(kernel_size=2, stride=2)\n",
        "\n",
        "        # specify fc layer 1 - in 16 * 5 * 5, out 120\n",
        "        self.linear1 = nn.Linear(16 * 5 * 5, 120, bias=True) # the linearity W*x+b\n",
        "        self.relu1 = nn.ReLU(inplace=True) # the non-linearity\n",
        "\n",
        "        # specify fc layer 2 - in 120, out 84\n",
        "        self.linear2 = nn.Linear(120, 84, bias=True) # the linearity W*x+b\n",
        "        self.relu2 = nn.ReLU(inplace=True) # the non-linarity\n",
        "\n",
        "        # specify fc layer 3 - in 84, out 10\n",
        "        self.linear3 = nn.Linear(84, 10) # the linearity W*x+b\n",
        "\n",
        "        # add a softmax to the last layer\n",
        "        self.logsoftmax = nn.LogSoftmax(dim=1) # the softmax\n",
        "\n",
        "    # define network forward pass\n",
        "    def forward(self, images):\n",
        "\n",
        "        # high-level feature learning via convolutional layers\n",
        "\n",
        "        # define conv layer 1 forward pass\n",
        "        x = self.pool1(self.relu1(self.conv1(images)))\n",
        "\n",
        "        # define conv layer 2 forward pass\n",
        "        x = self.pool2(self.relu2(self.conv2(x)))\n",
        "\n",
        "        # feature flattening\n",
        "\n",
        "        # reshape image pixels\n",
        "        x = x.view(-1, 16 * 5 * 5)\n",
        "\n",
        "        # combination of feature learning via non-linear layers\n",
        "\n",
        "        # define fc layer 1 forward pass\n",
        "        x = self.relu1(self.linear1(x))\n",
        "\n",
        "        # define fc layer 2 forward pass\n",
        "        x = self.relu2(self.linear2(x))\n",
        "\n",
        "        # define layer 3 forward pass\n",
        "        x = self.logsoftmax(self.linear3(x))\n",
        "\n",
        "        # return forward pass result\n",
        "        return x"
      ]
    },
    {
      "cell_type": "markdown",
      "metadata": {
        "id": "4lJGh5Er9_sF"
      },
      "source": [
        "You may have noticed that we applied two more layers (compared to the MNIST example described in the last lab) before the fully-connected layers. These layers are called **convolutional layers** and typically consist of three operations: (1) **convolution**, (2) **non-linearity**, and (3) **max-pooling**. These operations are usually executed sequentially during the forward pass through a convolutional layer."
      ]
    },
    {
      "cell_type": "markdown",
      "metadata": {
        "id": "keu5KR4x9_sF"
      },
      "source": [
        "Next, we will take a detailed look at the functionality and number of parameters in each layer. We will start by providing images of 3x32x32 dimensions to the network, i.e., the three channels (red, green, blue) of an image, each of size 32x32 pixels."
      ]
    },
    {
      "cell_type": "markdown",
      "metadata": {
        "id": "QYN6Dedt9_sF"
      },
      "source": [
        "### 4.1. High-Level Feature Learning by Convolutional Layers"
      ]
    },
    {
      "cell_type": "markdown",
      "metadata": {
        "id": "3TqfN3Db9_sG"
      },
      "source": [
        "Let's first look at the convolutional layers of the network, as illustrated in the cartoon above. Convolutional layers generally consist of three sequential operations: (1) convolution, (2) non-linearity, and (3) max-pooling. The following image provides a bird's-eye view of a typical convolutional layer architecture:"
      ]
    },
    {
      "cell_type": "markdown",
      "metadata": {
        "id": "G9oo9YFi9_sG"
      },
      "source": [
        "<img align=\"center\" style=\"max-width: 600px\" src=\"https://github.com/HSG-AIML-Teaching/GSERM2025-Lab/blob/main/lab_05/convolutions.png?raw=1\">"
      ]
    },
    {
      "cell_type": "markdown",
      "metadata": {
        "id": "9Oud8yJy9_sG"
      },
      "source": [
        "**First Convolutional Layer:** The first convolutional layer expects three input channels and will convolve six filters, each of size 3x5x5. Let's briefly revisit how we can perform a convolutional operation on a given image. We need to define a kernel, which is a matrix of size 5x5, for example. To perform the convolution operation, we slide the kernel along the image horizontally and vertically and obtain the dot product of the kernel and the pixel values of the image inside the kernel ('receptive field' of the kernel)."
      ]
    },
    {
      "cell_type": "markdown",
      "metadata": {
        "id": "-UjRWKlQ9_sG"
      },
      "source": [
        "The following illustration shows an example of a discrete convolution:"
      ]
    },
    {
      "cell_type": "markdown",
      "metadata": {
        "id": "z4eguT5B9_sG"
      },
      "source": [
        "<img align=\"center\" style=\"max-width: 800px\" src=\"https://github.com/HSG-AIML-Teaching/GSERM2025-Lab/blob/main/lab_05/convsample.png?raw=1\">"
      ]
    },
    {
      "cell_type": "markdown",
      "metadata": {
        "id": "LjqYlMyq9_sH"
      },
      "source": [
        "The left grid is called the input (an image or feature map). The middle grid, referred to as the kernel, slides across the input feature map (or image). At each location, the product between each element of the kernel and the input element it overlaps is computed, and the results are summed up to obtain the output at the current location. In general, a discrete convolution is mathematically expressed by:"
      ]
    },
    {
      "cell_type": "markdown",
      "metadata": {
        "id": "kUA4C9GX9_sH"
      },
      "source": [
        "<center> $y(m, n) = x(m, n) * h(m, n) = \\sum^{m}_{j=0} \\sum^{n}_{i=0} x(i, j) * h(m-i, n-j)$, </center>"
      ]
    },
    {
      "cell_type": "markdown",
      "metadata": {
        "id": "1QzATC029_sH"
      },
      "source": [
        "where $x$ denotes the input image or feature map, $h$ the applied kernel, and $y$ the output."
      ]
    },
    {
      "cell_type": "markdown",
      "metadata": {
        "id": "ZogbXkwc9_sH"
      },
      "source": [
        "When performing the convolution operation, the 'stride' defines the number of pixels to pass at a time when sliding the kernel over the input. 'Padding' adds pixels to the input image (or feature map) to ensure that the output has the same shape as the input. Let's look at another animated example:"
      ]
    },
    {
      "cell_type": "markdown",
      "metadata": {
        "id": "JwygKDeh9_sI"
      },
      "source": [
        "<img align=\"center\" style=\"max-width: 800px\" src=\"https://github.com/HSG-AIML-Teaching/GSERM2025-Lab/blob/main/lab_05/convsample_animated.gif?raw=1\">"
      ]
    },
    {
      "cell_type": "markdown",
      "metadata": {
        "id": "TRQDoCeG9_sI"
      },
      "source": [
        "(Source: https://towardsdatascience.com/a-comprehensive-guide-to-convolutional-neural-networks-the-eli5-way-3bd2b1164a53)\n",
        "\n",
        "The first convolutional layer expects an image of 3x32x32 (3 input channels, each of size 32x32). It convolves 6 filters, each of size 3x5x5, resulting in 6 feature maps of size 28x28. Let’s calculate the size of the feature map obtained by this layer.\n",
        "\n",
        "In our implementation, padding is set to 0, and stride is set to 1. As a result, the output size of the convolutional layer becomes 6x28x28, since (32 input pixel - 5 kernel pixel) + 1 = 28. This layer exhibits ((5 kernel pixel x 5 kernel pixel x 3 input channels) + 1) x 6 output channels = 456 parameters."
      ]
    },
    {
      "cell_type": "markdown",
      "metadata": {
        "id": "q0ALYEOE9_sI"
      },
      "source": [
        "**First Max-Pooling Layer:** The max-pooling process is a sample-based discretization operation. The objective is to down-sample an input representation (image, hidden-layer output matrix, etc.), reducing its dimensionality and allowing for assumptions to be made about features contained in the sub-regions binned. To conduct such an operation, we again need to define a kernel. Max-pooling kernels are usually a tiny matrix of, e.g, of size 2x2. To perform the max-pooling operation, we slide the kernel along the image horizontally and vertically (similarly to a convolution) and compute the maximum pixel value of the image (or feature map) inside the kernel (the receptive field of the kernel)."
      ]
    },
    {
      "cell_type": "markdown",
      "metadata": {
        "id": "Ji0FT1ra9_sI"
      },
      "source": [
        "The following illustration shows an example of a max-pooling operation:"
      ]
    },
    {
      "cell_type": "markdown",
      "metadata": {
        "id": "ZKQSTgI09_sI"
      },
      "source": [
        "<img align=\"center\" style=\"max-width: 500px\" src=\"https://github.com/HSG-AIML-Teaching/GSERM2025-Lab/blob/main/lab_05/poolsample.png?raw=1\">"
      ]
    },
    {
      "cell_type": "markdown",
      "metadata": {
        "id": "N9T8zXVc9_sI"
      },
      "source": [
        "The left grid is called the input (an image or feature map). The middle grid, referred to as the kernel, slides across the input feature map (or image). We use a stride of 2, meaning the step distance for stepping over our input will be 2 pixels and won't overlap regions. At each location, the max value of the region that overlaps with the elements of the kernel and the input elements it overlaps is computed, and the results are obtained in the output at the current location."
      ]
    },
    {
      "cell_type": "markdown",
      "metadata": {
        "id": "8uy4wuah9_sI"
      },
      "source": [
        "In our implementation, we do max-pooling with a 2x2 kernel and stride 2, which effectively reduces the original image size from 6x28x28 to 6x14x14. Let's look at an exemplary visualization of 64 features learned in the first convolutional layer on the CIFAR-10 dataset:"
      ]
    },
    {
      "cell_type": "markdown",
      "metadata": {
        "id": "iqKQ9QxmrUoj"
      },
      "source": [
        "<img align=\"center\" style=\"max-width: 700px\" src=\"https://github.com/HSG-AIML-Teaching/GSERM2025-Lab/blob/main/lab_05/cnnfeatures.png?raw=1\">"
      ]
    },
    {
      "cell_type": "markdown",
      "metadata": {
        "id": "tVMALT2arUoj"
      },
      "source": [
        "(Source: Yu, Dingjun, Hanli Wang, Peiqiu Chen, and Zhihua Wei, **\"Mixed Pooling for Convolutional Neural Networks\"**, International Conference on Rough Sets and Knowledge Technology, pp. 364-375. Springer, Cham, 2014)"
      ]
    },
    {
      "cell_type": "markdown",
      "metadata": {
        "id": "y3rD6ai29_sJ"
      },
      "source": [
        "**Second Convolutional Layer:** The second convolutional layer expects 6 input channels and will convolve 16 filters, each of size 6x5x5. Since padding is set to 0 and stride is set to 1, the output size is 16x10x10, calculated as (16 input pixels - 5 kernel pixels) + 1 = 10. This layer, therefore, has ((5 kernel pixels x 5 kernel pixels x 6 input channels) + 1 x 16 output channels) = 2,416 parameters.\n",
        "\n",
        "**Second Max-Pooling Layer:** The second down-sampling layer uses max-pooling with a 2x2 kernel and stride set to 2. This effectively reduces the size from 16x10x10 to 16x5x5."
      ]
    },
    {
      "cell_type": "markdown",
      "metadata": {
        "id": "rUeMEeHa9_sJ"
      },
      "source": [
        "### 4.2. Flattening of Learned Features"
      ]
    },
    {
      "cell_type": "markdown",
      "metadata": {
        "id": "T3disXberUok"
      },
      "source": [
        "The output of the final max-pooling layer needs to be flattened so that we can connect it to a fully connected layer. This is achieved using the `torch.Tensor.view` method. Setting the parameter of the method to `-1` will automatically infer the number of rows required to handle the mini-batch size of the data."
      ]
    },
    {
      "cell_type": "markdown",
      "metadata": {
        "id": "Bx3f3t1q9_sJ"
      },
      "source": [
        "### 4.3. Learning of Feature Classification"
      ]
    },
    {
      "cell_type": "markdown",
      "metadata": {
        "id": "WEM5tSzd9_sJ"
      },
      "source": [
        "Let's now look at the non-linear layers of the network illustrated below:"
      ]
    },
    {
      "cell_type": "markdown",
      "metadata": {
        "id": "xXJ0uhtZ9_sJ"
      },
      "source": [
        "<img align=\"center\" style=\"max-width: 600px\" src=\"https://github.com/HSG-AIML-Teaching/GSERM2025-Lab/blob/main/lab_05/fullyconnected.png?raw=1\">"
      ]
    },
    {
      "cell_type": "markdown",
      "metadata": {
        "id": "v8rkmInp9_sJ"
      },
      "source": [
        "The first fully connected layer uses 'Rectified Linear Units' (ReLU) activation functions to learn potential nonlinear combinations of features. The layers are implemented similarly to the fifth lab. Therefore, we will only focus on the number of parameters in each fully-connected layer:"
      ]
    },
    {
      "cell_type": "markdown",
      "metadata": {
        "id": "yTtcghkz9_sK"
      },
      "source": [
        "**First Fully-Connected Layer:** The first fully-connected layer consists of 120 neurons, thus in total exhibits ((16 input channels x 5 input pixels x 5 input pixels) + 1 bias) x 120 input neurons = 48,120 parameters.\n",
        "\n",
        "**Second Fully-Connected Layer:** The output of the first fully-connected layer is then transferred to the second fully-connected layer. The layer consists of 84 neurons equipped with ReLU activation functions, and in total exhibits (120 input dimensions + 1 bias) x 84 input neurons = 10,164 parameters."
      ]
    },
    {
      "cell_type": "markdown",
      "metadata": {
        "id": "3HbTqZdz9_sK"
      },
      "source": [
        "The output of the second fully-connected layer is then transferred to the output layer (third fully-connected layer). The output layer is equipped with a softmax (which you learned about in the previous lab) and comprises ten neurons, one for each object class contained in the CIFAR-10 dataset. This layer exhibits (84 + 1) x 10 = 850 parameter.\n",
        "\n",
        "As a result our CIFAR-10 convolutional neural exhibits a total of 456 + 2,416 + 48,120 + 10,164 + 850 = 62,006 parameter.\n",
        "\n",
        "(Source: https://www.stefanfiott.com/machine-learning/cifar-10-classifier-using-cnn-in-pytorch/)"
      ]
    },
    {
      "cell_type": "markdown",
      "metadata": {
        "id": "UcPpgIWI9_sK"
      },
      "source": [
        "Now that we have implemented our first Convolutional Neural Network, we are ready to instantiate a network model to be trained:"
      ]
    },
    {
      "cell_type": "code",
      "execution_count": 23,
      "metadata": {
        "id": "YGRVLvKS9_sK"
      },
      "outputs": [],
      "source": [
        "model = CIFAR10Net()"
      ]
    },
    {
      "cell_type": "markdown",
      "metadata": {
        "id": "5W1ub7-89_sK"
      },
      "source": [
        "Let's push the initialized `CIFAR10Net` model to the enabled computing `device`:"
      ]
    },
    {
      "cell_type": "code",
      "execution_count": 24,
      "metadata": {
        "id": "IPg7Kh_m9_sK"
      },
      "outputs": [],
      "source": [
        "model = model.to(device)"
      ]
    },
    {
      "cell_type": "markdown",
      "metadata": {
        "id": "Wgd0WN5L9_sL"
      },
      "source": [
        "Let's double-check if our model was deployed to the GPU, if available:"
      ]
    },
    {
      "cell_type": "code",
      "execution_count": 25,
      "metadata": {
        "id": "BB4RuXM99_sL",
        "collapsed": true,
        "outputId": "9dee7851-17d2-4e00-b92f-6a740bdc8a54",
        "colab": {
          "base_uri": "https://localhost:8080/"
        }
      },
      "outputs": [
        {
          "output_type": "stream",
          "name": "stdout",
          "text": [
            "Thu Jul 10 09:38:30 2025       \n",
            "+-----------------------------------------------------------------------------------------+\n",
            "| NVIDIA-SMI 550.54.15              Driver Version: 550.54.15      CUDA Version: 12.4     |\n",
            "|-----------------------------------------+------------------------+----------------------+\n",
            "| GPU  Name                 Persistence-M | Bus-Id          Disp.A | Volatile Uncorr. ECC |\n",
            "| Fan  Temp   Perf          Pwr:Usage/Cap |           Memory-Usage | GPU-Util  Compute M. |\n",
            "|                                         |                        |               MIG M. |\n",
            "|=========================================+========================+======================|\n",
            "|   0  NVIDIA L4                      Off |   00000000:00:03.0 Off |                    0 |\n",
            "| N/A   49C    P0             28W /   72W |     191MiB /  23034MiB |      0%      Default |\n",
            "|                                         |                        |                  N/A |\n",
            "+-----------------------------------------+------------------------+----------------------+\n",
            "                                                                                         \n",
            "+-----------------------------------------------------------------------------------------+\n",
            "| Processes:                                                                              |\n",
            "|  GPU   GI   CI        PID   Type   Process name                              GPU Memory |\n",
            "|        ID   ID                                                               Usage      |\n",
            "|=========================================================================================|\n",
            "+-----------------------------------------------------------------------------------------+\n"
          ]
        }
      ],
      "source": [
        "!nvidia-smi"
      ]
    },
    {
      "cell_type": "markdown",
      "metadata": {
        "id": "wofRVIpA9_sL"
      },
      "source": [
        "Once the model is initialized, we can visualize the model structure and review the implemented network architecture before training:"
      ]
    },
    {
      "cell_type": "code",
      "execution_count": 26,
      "metadata": {
        "id": "6XyE60fD9_sL",
        "outputId": "10222243-e60b-4577-fbe1-e7671d1b20f3",
        "colab": {
          "base_uri": "https://localhost:8080/"
        }
      },
      "outputs": [
        {
          "output_type": "stream",
          "name": "stdout",
          "text": [
            "[LOG] CIFAR10Net architecture:\n",
            "\n",
            "CIFAR10Net(\n",
            "  (conv1): Conv2d(3, 6, kernel_size=(5, 5), stride=(1, 1))\n",
            "  (pool1): MaxPool2d(kernel_size=2, stride=2, padding=0, dilation=1, ceil_mode=False)\n",
            "  (conv2): Conv2d(6, 16, kernel_size=(5, 5), stride=(1, 1))\n",
            "  (pool2): MaxPool2d(kernel_size=2, stride=2, padding=0, dilation=1, ceil_mode=False)\n",
            "  (linear1): Linear(in_features=400, out_features=120, bias=True)\n",
            "  (relu1): ReLU(inplace=True)\n",
            "  (linear2): Linear(in_features=120, out_features=84, bias=True)\n",
            "  (relu2): ReLU(inplace=True)\n",
            "  (linear3): Linear(in_features=84, out_features=10, bias=True)\n",
            "  (logsoftmax): LogSoftmax(dim=1)\n",
            ")\n",
            "\n"
          ]
        }
      ],
      "source": [
        "# print the initialized architectures\n",
        "print('[LOG] CIFAR10Net architecture:\\n\\n{}\\n'.format(model))"
      ]
    },
    {
      "cell_type": "markdown",
      "metadata": {
        "id": "Wl5fE-TU9_sL"
      },
      "source": [
        "Looks like intended? Brilliant! Finally, let's have a look into the number of model parameters that we aim to train in the next steps of the notebook:"
      ]
    },
    {
      "cell_type": "code",
      "execution_count": 27,
      "metadata": {
        "id": "gkipagYv9_sL",
        "outputId": "65cb9f01-6f0e-471e-8697-e5191f0955d4",
        "colab": {
          "base_uri": "https://localhost:8080/"
        }
      },
      "outputs": [
        {
          "output_type": "stream",
          "name": "stdout",
          "text": [
            "[LOG] Number of to be trained CIFAR10Net model parameters: 62006.\n"
          ]
        }
      ],
      "source": [
        "# init the number of model parameters\n",
        "num_params = 0\n",
        "\n",
        "# iterate over the distinct parameters\n",
        "for param in model.parameters():\n",
        "\n",
        "    # collect number of parameters\n",
        "    num_params += param.numel()\n",
        "\n",
        "# print the number of model paramters\n",
        "print('[LOG] Number of to be trained CIFAR10Net model parameters: {}.'.format(num_params))"
      ]
    },
    {
      "cell_type": "markdown",
      "metadata": {
        "id": "MvqKcKUV9_sM"
      },
      "source": [
        "Ok, our \"simple\" CIFAR10Net model already encompasses an impressive number **62,006 model parameters** to be trained."
      ]
    },
    {
      "cell_type": "markdown",
      "metadata": {
        "id": "-_s14kxw9_sM"
      },
      "source": [
        "We are ready to train the network now that we have successfully implemented and defined the three CNN building blocks. However, we must define an appropriate loss function before starting the training. Remember, we aim to train our model to learn a set of model parameters $\\theta$ that minimize the classification error of the true class $c^{i}$ of a given CIFAR-10 image $x^{i}$ and its predicted class $\\hat{c}^{i} = f_\\theta(x^{i})$ as faithfully as possible.\n",
        "\n",
        "We use the **'Negative Log-Likelihood (NLL)'** loss in this lab. During training, the NLL loss will penalize models that result in a high classification error between the predicted class labels $\\hat{c}^{i}$ and their respective true class label $c^{i}$.\n"
      ]
    },
    {
      "cell_type": "markdown",
      "metadata": {
        "id": "5iALpp3l9_sM"
      },
      "source": [
        "Let's instantiate the NLL loss via the following PyTorch command:"
      ]
    },
    {
      "cell_type": "code",
      "execution_count": 28,
      "metadata": {
        "id": "LayFcR6V9_sM"
      },
      "outputs": [],
      "source": [
        "# define the optimization criterion / loss function\n",
        "nll_loss = nn.NLLLoss()"
      ]
    },
    {
      "cell_type": "markdown",
      "metadata": {
        "id": "lER79DjT9_sN"
      },
      "source": [
        "Let's also push the initialized `nll_loss` computation to the enabled computing `device`:"
      ]
    },
    {
      "cell_type": "code",
      "execution_count": 29,
      "metadata": {
        "id": "q8gWGfdA9_sN"
      },
      "outputs": [],
      "source": [
        "nll_loss = nll_loss.to(device)"
      ]
    },
    {
      "cell_type": "markdown",
      "metadata": {
        "id": "HgICsmcF9_sN"
      },
      "source": [
        "Based on the loss magnitude of a certain mini-batch, PyTorch automatically computes the gradients. Furthermore, based on the gradient, the library also helps us optimise and update the network parameters $\\theta$.\n",
        "\n",
        "We will use the **Stochastic Gradient Descent (SGD) optimization** and set the `learning rate` to 0.001. With each mini-batch step, the optimizer will update the model parameters $\\theta$ according to the degree of classification error (the NLL loss)."
      ]
    },
    {
      "cell_type": "code",
      "execution_count": 30,
      "metadata": {
        "id": "FwFN6G8m9_sN"
      },
      "outputs": [],
      "source": [
        "# define learning rate and optimization strategy\n",
        "learning_rate = 0.001\n",
        "optimizer = optim.SGD(params=model.parameters(), lr=learning_rate)"
      ]
    },
    {
      "cell_type": "markdown",
      "metadata": {
        "id": "Ydpb5vlt9_sN"
      },
      "source": [
        "Now that we have successfully implemented and defined the three CNN building blocks, let's take some time to review the `CIFAR10Net` model definition as well as the `loss`. Please read the above code and comments carefully and don't hesitate to ask any questions you might have."
      ]
    },
    {
      "cell_type": "markdown",
      "metadata": {
        "id": "sWU9hWb_9_sO"
      },
      "source": [
        "## 5. Neural Network Model Training"
      ]
    },
    {
      "cell_type": "markdown",
      "metadata": {
        "id": "jdQLICDt9_sO"
      },
      "source": [
        "In this section, we will train our neural network model (as implemented in the section above) using the transformed images. Specifically, we will examine the distinct training steps and how to monitor the training progress."
      ]
    },
    {
      "cell_type": "markdown",
      "metadata": {
        "id": "EVM_dXkv9_sP"
      },
      "source": [
        "### 5.1. Preparing the Network Training"
      ]
    },
    {
      "cell_type": "markdown",
      "metadata": {
        "id": "DY85Fiwh9_sP"
      },
      "source": [
        "So far, we have pre-processed the dataset, implemented the CNN, and defined the classification error. Let's now start to train a corresponding model for **20 epochs** with a **mini-batch size of 128** CIFAR-10 images per batch. This implies that the whole dataset will be fed to the CNN 20 times in chunks of 128 images, yielding **391 mini-batches** (50,000 training images / 128 images per mini-batch) per epoch. After processing each mini-batch, the parameters of the network will be updated."
      ]
    },
    {
      "cell_type": "code",
      "execution_count": 31,
      "metadata": {
        "id": "dZCKjFy49_sP"
      },
      "outputs": [],
      "source": [
        "# specify the training parameters\n",
        "num_epochs = 20 # number of training epochs\n",
        "mini_batch_size = 128 # size of the mini-batches"
      ]
    },
    {
      "cell_type": "markdown",
      "metadata": {
        "id": "L--PU3IN9_sP"
      },
      "source": [
        "Furthermore, let's specify and instantiate a corresponding PyTorch data loader that feeds the image tensors to our neural network:"
      ]
    },
    {
      "cell_type": "code",
      "execution_count": 32,
      "metadata": {
        "id": "GX4M4zsl9_sP"
      },
      "outputs": [],
      "source": [
        "cifar10_train_dataloader = torch.utils.data.DataLoader(cifar10_train_data, batch_size=mini_batch_size, shuffle=True)"
      ]
    },
    {
      "cell_type": "markdown",
      "metadata": {
        "id": "KTNmPRRR9_sQ"
      },
      "source": [
        "### 5.2. Running the Network Training"
      ]
    },
    {
      "cell_type": "markdown",
      "metadata": {
        "id": "mAjOouhW9_sQ"
      },
      "source": [
        "Finally, we start training the model. The training procedure for each mini-batch is performed as follows:\n",
        "\n",
        ">1. Do a forward pass through the CIFAR10Net network,\n",
        ">2. Compute the negative log-likelihood classification error $\\mathcal{L}^{NLL}_{\\theta}(c^{i};\\hat{c}^{i})$,\n",
        ">3. Do a backward pass through the CIFAR10Net network, and\n",
        ">4. Update the parameters of the network $f_\\theta(\\cdot)$.\n",
        "\n",
        "We will monitor whether the loss decreases as training progresses to ensure learning while training our CNN model. Therefore, we obtain and evaluate the classification performance of the entire training dataset after each training epoch. Based on this evaluation, we can conclude the training progress and whether the loss is converging (indicating that the model might not improve further).\n",
        "\n",
        "The following elements of the network training code below should be given particular attention:\n",
        "\n",
        ">- `loss.backward()` computes the gradients based on the magnitude of the reconstruction loss,\n",
        ">- `optimizer.step()` updates the network parameters based on the gradient."
      ]
    },
    {
      "cell_type": "code",
      "execution_count": 33,
      "metadata": {
        "id": "NLpad5OX9_sQ",
        "scrolled": true,
        "outputId": "2a3433f0-e4ee-428b-9ebf-f04ee8ea4eb7",
        "colab": {
          "base_uri": "https://localhost:8080/"
        }
      },
      "outputs": [
        {
          "output_type": "stream",
          "name": "stdout",
          "text": [
            "[LOG 20250710-09:39:14] epoch: 0 train-loss: 2.303740958728449\n",
            "[LOG 20250710-09:39:27] epoch: 1 train-loss: 2.3031088842455385\n",
            "[LOG 20250710-09:39:40] epoch: 2 train-loss: 2.3024532904710306\n",
            "[LOG 20250710-09:39:53] epoch: 3 train-loss: 2.3017867099293663\n",
            "[LOG 20250710-09:40:06] epoch: 4 train-loss: 2.3010797677442545\n",
            "[LOG 20250710-09:40:19] epoch: 5 train-loss: 2.300300157893344\n",
            "[LOG 20250710-09:40:31] epoch: 6 train-loss: 2.2994058601691596\n",
            "[LOG 20250710-09:40:44] epoch: 7 train-loss: 2.298383130441846\n",
            "[LOG 20250710-09:40:57] epoch: 8 train-loss: 2.297210034811893\n",
            "[LOG 20250710-09:41:11] epoch: 9 train-loss: 2.2958067493975314\n",
            "[LOG 20250710-09:41:23] epoch: 10 train-loss: 2.294049205682467\n",
            "[LOG 20250710-09:41:36] epoch: 11 train-loss: 2.291822069441266\n",
            "[LOG 20250710-09:41:50] epoch: 12 train-loss: 2.288992534208176\n",
            "[LOG 20250710-09:42:03] epoch: 13 train-loss: 2.2853640985610846\n",
            "[LOG 20250710-09:42:16] epoch: 14 train-loss: 2.280594809280942\n",
            "[LOG 20250710-09:42:29] epoch: 15 train-loss: 2.274281689578005\n",
            "[LOG 20250710-09:42:41] epoch: 16 train-loss: 2.2660652347232983\n",
            "[LOG 20250710-09:42:54] epoch: 17 train-loss: 2.255981980687212\n",
            "[LOG 20250710-09:43:07] epoch: 18 train-loss: 2.24449740407412\n",
            "[LOG 20250710-09:43:20] epoch: 19 train-loss: 2.232474925877798\n"
          ]
        }
      ],
      "source": [
        "# init collection of training epoch losses\n",
        "train_epoch_losses = []\n",
        "\n",
        "# set the model in training mode\n",
        "model.train()\n",
        "\n",
        "# train the CIFAR10 model\n",
        "for epoch in range(num_epochs):\n",
        "\n",
        "    # init collection of mini-batch losses\n",
        "    train_mini_batch_losses = []\n",
        "\n",
        "    # iterate over all-mini batches\n",
        "    for i, (images, labels) in enumerate(cifar10_train_dataloader):\n",
        "\n",
        "        # push mini-batch data to computation device\n",
        "        images = images.to(device)\n",
        "        labels = labels.to(device)\n",
        "\n",
        "        # run forward pass through the network\n",
        "        output = model(images)\n",
        "\n",
        "        # reset graph gradients\n",
        "        model.zero_grad()\n",
        "\n",
        "        # determine classification loss\n",
        "        loss = nll_loss(output, labels)\n",
        "\n",
        "        # run backward pass\n",
        "        loss.backward()\n",
        "\n",
        "        # update network paramaters\n",
        "        optimizer.step()\n",
        "\n",
        "        # collect mini-batch reconstruction loss\n",
        "        train_mini_batch_losses.append(loss.data.item())\n",
        "\n",
        "    # determine mean min-batch loss of epoch\n",
        "    train_epoch_loss = np.mean(train_mini_batch_losses)\n",
        "\n",
        "    # print epoch loss\n",
        "    now = datetime.utcnow().strftime(\"%Y%m%d-%H:%M:%S\")\n",
        "    print('[LOG {}] epoch: {} train-loss: {}'.format(str(now), str(epoch), str(train_epoch_loss)))\n",
        "\n",
        "    # set filename of actual model\n",
        "    model_name = 'cifar10_model_epoch_{}.pth'.format(str(epoch))\n",
        "\n",
        "    # save current model to GDrive models directory\n",
        "    torch.save(model.state_dict(), os.path.join(models_directory, model_name))\n",
        "\n",
        "    # determine mean min-batch loss of epoch\n",
        "    train_epoch_losses.append(train_epoch_loss)"
      ]
    },
    {
      "cell_type": "markdown",
      "metadata": {
        "id": "Ygw3kQHe9_sQ"
      },
      "source": [
        "Upon successful training, let's visualize and inspect the training loss per epoch:"
      ]
    },
    {
      "cell_type": "code",
      "execution_count": 34,
      "metadata": {
        "id": "cYsSBemy9_sQ",
        "outputId": "e4b58350-45a4-497f-fbf4-37490477dd95",
        "colab": {
          "base_uri": "https://localhost:8080/",
          "height": 477
        }
      },
      "outputs": [
        {
          "output_type": "display_data",
          "data": {
            "text/plain": [
              "<Figure size 640x480 with 1 Axes>"
            ],
            "image/png": "[encoded data removed]"
          },
          "metadata": {}
        }
      ],
      "source": [
        "# prepare plot\n",
        "fig = plt.figure()\n",
        "ax = fig.add_subplot(111)\n",
        "\n",
        "# add grid\n",
        "ax.grid(linestyle='dotted')\n",
        "\n",
        "# plot the training epochs vs. the epochs' classification error\n",
        "ax.plot(np.array(range(1, len(train_epoch_losses)+1)), train_epoch_losses, label='epoch loss (blue)')\n",
        "\n",
        "# add axis legends\n",
        "ax.set_xlabel(\"[training epoch $e_i$]\", fontsize=10)\n",
        "ax.set_ylabel(\"[Classification Error $\\mathcal{L}^{NLL}$]\", fontsize=10)\n",
        "\n",
        "# set plot legend\n",
        "plt.legend(loc=\"upper right\", numpoints=1, fancybox=True)\n",
        "\n",
        "# add plot title\n",
        "plt.title('Training Epochs $e_i$ vs. Classification Error $L^{NLL}$', fontsize=10);"
      ]
    },
    {
      "cell_type": "markdown",
      "metadata": {
        "id": "Cr_sgAbk9_sR"
      },
      "source": [
        "Okay, fantastic. The training error converges nicely. We could definitely train the network for a few more epochs until the error converges. But let's stay with the 20 training epochs for now and continue with evaluating our trained model."
      ]
    },
    {
      "cell_type": "markdown",
      "metadata": {
        "id": "N8NnkvgF9_sR"
      },
      "source": [
        "## 6. Neural Network Model Evaluation"
      ]
    },
    {
      "cell_type": "markdown",
      "metadata": {
        "id": "2ORj_4Gh9_sR"
      },
      "source": [
        "Before evaluating our model, let's load the best-performing model. Remember that we stored a snapshot of the model after each training epoch to our local model directory. We will now load the last snapshot saved."
      ]
    },
    {
      "cell_type": "code",
      "execution_count": 35,
      "metadata": {
        "id": "siwd2xJr9_sR",
        "outputId": "57f69a38-3e0b-4101-f08f-c432d75de152",
        "colab": {
          "base_uri": "https://localhost:8080/"
        }
      },
      "outputs": [
        {
          "output_type": "execute_result",
          "data": {
            "text/plain": [
              "<All keys matched successfully>"
            ]
          },
          "metadata": {},
          "execution_count": 35
        }
      ],
      "source": [
        "# restore pre-trained model snapshot\n",
        "best_model_name = 'https://raw.githubusercontent.com/HSG-AIML-Teaching/GSERM2025-Lab/master/lab_05/models_cifar10/cifar10_model_epoch_19.pth'\n",
        "\n",
        "# read stored model from the remote location\n",
        "model_bytes = urllib.request.urlopen(best_model_name)\n",
        "\n",
        "# load model tensor from io.BytesIO object\n",
        "model_buffer = io.BytesIO(model_bytes.read())\n",
        "\n",
        "# init pre-trained model class\n",
        "best_model = CIFAR10Net()\n",
        "\n",
        "# load pre-trained models\n",
        "best_model.load_state_dict(torch.load(model_buffer, map_location=torch.device('cpu')))"
      ]
    },
    {
      "cell_type": "markdown",
      "metadata": {
        "id": "-AJmXdBr9_sR"
      },
      "source": [
        "Let's check if the model was loaded successfully:"
      ]
    },
    {
      "cell_type": "code",
      "execution_count": 36,
      "metadata": {
        "id": "Ia3UASaI9_sR",
        "outputId": "ff6cb500-aab6-40c3-cfbd-99913f249f5d",
        "colab": {
          "base_uri": "https://localhost:8080/"
        }
      },
      "outputs": [
        {
          "output_type": "execute_result",
          "data": {
            "text/plain": [
              "CIFAR10Net(\n",
              "  (conv1): Conv2d(3, 6, kernel_size=(5, 5), stride=(1, 1))\n",
              "  (pool1): MaxPool2d(kernel_size=2, stride=2, padding=0, dilation=1, ceil_mode=False)\n",
              "  (conv2): Conv2d(6, 16, kernel_size=(5, 5), stride=(1, 1))\n",
              "  (pool2): MaxPool2d(kernel_size=2, stride=2, padding=0, dilation=1, ceil_mode=False)\n",
              "  (linear1): Linear(in_features=400, out_features=120, bias=True)\n",
              "  (relu1): ReLU(inplace=True)\n",
              "  (linear2): Linear(in_features=120, out_features=84, bias=True)\n",
              "  (relu2): ReLU(inplace=True)\n",
              "  (linear3): Linear(in_features=84, out_features=10, bias=True)\n",
              "  (logsoftmax): LogSoftmax(dim=1)\n",
              ")"
            ]
          },
          "metadata": {},
          "execution_count": 36
        }
      ],
      "source": [
        "# set model in evaluation mode\n",
        "best_model.eval()"
      ]
    },
    {
      "cell_type": "markdown",
      "metadata": {
        "id": "O68AXMgf9_sS"
      },
      "source": [
        "To evaluate our trained model, we need to feed the CIFAR-10 images reserved for evaluation (the images that we didn't use as part of the training process) through the model. Therefore, let's define a corresponding PyTorch data loader that feeds the image tensors to our neural network:"
      ]
    },
    {
      "cell_type": "code",
      "execution_count": 37,
      "metadata": {
        "id": "HyJfMnfL9_sS"
      },
      "outputs": [],
      "source": [
        "cifar10_eval_dataloader = torch.utils.data.DataLoader(cifar10_eval_data, batch_size=10000, shuffle=False)"
      ]
    },
    {
      "cell_type": "markdown",
      "metadata": {
        "id": "9lMsauia9_sS"
      },
      "source": [
        "We will now evaluate the trained model using the same mini-batch approach as we did when training the network and derive the mean negative log-likelihood loss of all mini-batches processed in an epoch:"
      ]
    },
    {
      "cell_type": "code",
      "execution_count": 38,
      "metadata": {
        "id": "sM691HZH9_sS",
        "outputId": "33b1ebc9-4be1-4d4f-9f09-f1578c8a7671",
        "colab": {
          "base_uri": "https://localhost:8080/"
        }
      },
      "outputs": [
        {
          "output_type": "stream",
          "name": "stdout",
          "text": [
            "[LOG 20250710-09:44:08] eval-loss: 1.0612423419952393\n"
          ]
        }
      ],
      "source": [
        "# init collection of mini-batch losses\n",
        "eval_mini_batch_losses = []\n",
        "\n",
        "# iterate over all-mini batches\n",
        "for i, (images, labels) in enumerate(cifar10_eval_dataloader):\n",
        "\n",
        "    # run forward pass through the network\n",
        "    output = best_model(images)\n",
        "\n",
        "    # determine classification loss\n",
        "    loss = nll_loss(output, labels)\n",
        "\n",
        "    # collect mini-batch reconstruction loss\n",
        "    eval_mini_batch_losses.append(loss.data.item())\n",
        "\n",
        "# determine mean min-batch loss of epoch\n",
        "eval_loss = np.mean(eval_mini_batch_losses)\n",
        "\n",
        "# print epoch loss\n",
        "now = datetime.utcnow().strftime(\"%Y%m%d-%H:%M:%S\")\n",
        "print('[LOG {}] eval-loss: {}'.format(str(now), str(eval_loss)))"
      ]
    },
    {
      "cell_type": "markdown",
      "metadata": {
        "id": "8rrVTPcz9_sS"
      },
      "source": [
        "Great! The evaluation loss looks in line with our training loss. Let's now inspect a few sample predictions to get an impression of the model quality. We will again pick a random image from our evaluation dataset and retrieve its PyTorch tensor as well as the corresponding label:"
      ]
    },
    {
      "cell_type": "code",
      "execution_count": 39,
      "metadata": {
        "id": "_RWjAuPv9_sT"
      },
      "outputs": [],
      "source": [
        "# set (random) image id\n",
        "image_id = 777\n",
        "\n",
        "# retrieve image exhibiting the image id\n",
        "cifar10_eval_image, cifar10_eval_label = cifar10_eval_data[image_id]"
      ]
    },
    {
      "cell_type": "markdown",
      "metadata": {
        "id": "lVxTWZQ59_sT"
      },
      "source": [
        "Let's now check the true class of the image we selected:"
      ]
    },
    {
      "cell_type": "code",
      "execution_count": 40,
      "metadata": {
        "id": "dIIU_7HW9_sT",
        "outputId": "b94db957-0389-4e34-9063-83e1c93588c6",
        "colab": {
          "base_uri": "https://localhost:8080/",
          "height": 35
        }
      },
      "outputs": [
        {
          "output_type": "execute_result",
          "data": {
            "text/plain": [
              "'frog'"
            ],
            "application/vnd.google.colaboratory.intrinsic+json": {
              "type": "string"
            }
          },
          "metadata": {},
          "execution_count": 40
        }
      ],
      "source": [
        "cifar10_classes[cifar10_eval_label]"
      ]
    },
    {
      "cell_type": "markdown",
      "metadata": {
        "id": "In4-hd8Z9_sT"
      },
      "source": [
        "Okay, the randomly selected image should contain a two (2). Let's inspect the image accordingly:"
      ]
    },
    {
      "cell_type": "code",
      "execution_count": 41,
      "metadata": {
        "id": "HeME1Kuf9_sT",
        "outputId": "9bb4d9d5-969b-413a-814f-809ac45adecf",
        "colab": {
          "base_uri": "https://localhost:8080/",
          "height": 469
        }
      },
      "outputs": [
        {
          "output_type": "execute_result",
          "data": {
            "text/plain": [
              "<matplotlib.image.AxesImage at 0x7df9998ae3d0>"
            ]
          },
          "metadata": {},
          "execution_count": 41
        },
        {
          "output_type": "display_data",
          "data": {
            "text/plain": [
              "<Figure size 640x480 with 1 Axes>"
            ],
            "image/png": "[encoded data removed]"
          },
          "metadata": {}
        }
      ],
      "source": [
        "# define tensor to image transformation\n",
        "trans = torchvision.transforms.ToPILImage()\n",
        "\n",
        "# set image plot title\n",
        "plt.title('Example: {}, Label: {}'.format(str(image_id), str(cifar10_classes[cifar10_eval_label])))\n",
        "\n",
        "# un-normalize cifar 10 image sample\n",
        "cifar10_eval_image_plot = cifar10_eval_image / 2.0 + 0.5\n",
        "\n",
        "# plot cifar 10 image sample\n",
        "plt.imshow(trans(cifar10_eval_image_plot))"
      ]
    },
    {
      "cell_type": "markdown",
      "metadata": {
        "id": "liRyC0t79_sT"
      },
      "source": [
        "Now, let's compare the true label with the prediction of our model:\n"
      ]
    },
    {
      "cell_type": "code",
      "execution_count": 42,
      "metadata": {
        "id": "bLjo87kl9_sX",
        "outputId": "93adcfa4-a94e-4a6c-9731-346e276a2f98",
        "colab": {
          "base_uri": "https://localhost:8080/"
        }
      },
      "outputs": [
        {
          "output_type": "execute_result",
          "data": {
            "text/plain": [
              "tensor([[ -9.8455, -11.7752,  -5.0147,  -3.2746,  -3.1386,  -4.3927,  -0.1058,\n",
              "          -9.0273, -10.5561, -11.5469]], grad_fn=<LogSoftmaxBackward0>)"
            ]
          },
          "metadata": {},
          "execution_count": 42
        }
      ],
      "source": [
        "best_model(cifar10_eval_image.unsqueeze(0))"
      ]
    },
    {
      "cell_type": "markdown",
      "metadata": {
        "id": "q_3oz6t09_sX"
      },
      "source": [
        "We can even determine the likelihood of the most probable class:"
      ]
    },
    {
      "cell_type": "code",
      "execution_count": 43,
      "metadata": {
        "id": "ggPTl-gz9_sX",
        "outputId": "59e716b7-a4b7-491e-b792-edbc8ea45c8b",
        "colab": {
          "base_uri": "https://localhost:8080/",
          "height": 35
        }
      },
      "outputs": [
        {
          "output_type": "execute_result",
          "data": {
            "text/plain": [
              "'frog'"
            ],
            "application/vnd.google.colaboratory.intrinsic+json": {
              "type": "string"
            }
          },
          "metadata": {},
          "execution_count": 43
        }
      ],
      "source": [
        "cifar10_classes[torch.argmax(best_model(Variable(cifar10_eval_image.unsqueeze(0))), dim=1).item()]"
      ]
    },
    {
      "cell_type": "markdown",
      "metadata": {
        "id": "4ERjK-u79_sY"
      },
      "source": [
        "Let's now obtain the predictions for all the CIFAR-10 images in the evaluation data:"
      ]
    },
    {
      "cell_type": "code",
      "execution_count": 44,
      "metadata": {
        "id": "PmKPLlar9_sY"
      },
      "outputs": [],
      "source": [
        "predictions = torch.argmax(best_model(next(iter(cifar10_eval_dataloader))[0]), dim=1)"
      ]
    },
    {
      "cell_type": "markdown",
      "metadata": {
        "id": "IxEmgtiD9_sY"
      },
      "source": [
        "Next, let's obtain the overall classification accuracy:"
      ]
    },
    {
      "cell_type": "code",
      "execution_count": 45,
      "metadata": {
        "id": "49xGbTlV9_sY",
        "outputId": "239b0ad0-eba5-4269-98a8-bb6982006b42",
        "colab": {
          "base_uri": "https://localhost:8080/"
        }
      },
      "outputs": [
        {
          "output_type": "execute_result",
          "data": {
            "text/plain": [
              "0.6337"
            ]
          },
          "metadata": {},
          "execution_count": 45
        }
      ],
      "source": [
        "metrics.accuracy_score(cifar10_eval_data.targets, predictions.detach())"
      ]
    },
    {
      "cell_type": "markdown",
      "metadata": {
        "id": "7nafaYuD9_sY"
      },
      "source": [
        "Finally, let's also inspect the confusion matrix of the model predictions to determine the major sources of misclassification:"
      ]
    },
    {
      "cell_type": "code",
      "execution_count": 46,
      "metadata": {
        "id": "hgUvHNl49_sY",
        "outputId": "6dce7ff4-4287-45a8-8120-1966be8c4997",
        "colab": {
          "base_uri": "https://localhost:8080/",
          "height": 714
        }
      },
      "outputs": [
        {
          "output_type": "display_data",
          "data": {
            "text/plain": [
              "<Figure size 800x800 with 1 Axes>"
            ],
            "image/png": "[encoded data removed]"
          },
          "metadata": {}
        }
      ],
      "source": [
        "# determine classification matrix of the predicted and target classes\n",
        "mat = confusion_matrix(cifar10_eval_data.targets, predictions.detach())\n",
        "\n",
        "# initialize the plot and define size\n",
        "plt.figure(figsize=(8, 8))\n",
        "\n",
        "# plot corresponding confusion matrix\n",
        "sns.heatmap(mat.T, square=True, annot=True, fmt='d', cbar=False, cmap='YlOrRd_r', xticklabels=cifar10_classes, yticklabels=cifar10_classes)\n",
        "plt.tick_params(axis='both', which='major', labelsize=8, labelbottom = False, bottom=False, top = False, left = False, labeltop=True)\n",
        "\n",
        "# set plot title\n",
        "plt.title('CIFAR-10 classification matrix')\n",
        "\n",
        "# set plot axis lables\n",
        "plt.xlabel('[true label]')\n",
        "plt.ylabel('[predicted label]');"
      ]
    },
    {
      "cell_type": "markdown",
      "metadata": {
        "id": "dVNmm42q9_sZ"
      },
      "source": [
        "Okay, we can easily see that our current model often confuses images of cats and dogs, as well as images of trucks and cars. This is not surprising since those image categories exhibit a high semantic and visual similarity."
      ]
    },
    {
      "cell_type": "markdown",
      "metadata": {
        "id": "ST0oDfsq9_sk"
      },
      "source": [
        "## 7. Lab Summary:"
      ]
    },
    {
      "cell_type": "markdown",
      "metadata": {
        "id": "Yghg1eFi9_sk"
      },
      "source": [
        "In this lab, you successfully accomplished the following key learnings:\n",
        "\n",
        "> 1. **Understanding Convolutional Neural Network Design:** Mastered the fundamental concepts and architectural design of convolutional neural networks (CNNs), enhancing your comprehension of deep learning models tailored for image classification.\n",
        "> 2. **Model Implementation and Training:** Developed practical skills in implementing and training a CNN model using PyTorch, applying it to the CIFAR-10 dataset to predict class labels for categories such as aeroplanes, cars, birds, and more.\n",
        "> 3. **Evaluating Model Performance:** Gained expertise in evaluating the performance of CNN models through metrics such as loss and accuracy, and through the construction and analysis of confusion matrices.\n",
        "\n",
        "This lab provided insights into designing, implementing, training, and evaluating CNNs for image classification. It equipped you with essential tools and techniques for effective model building, evaluation, and application. These skills are invaluable for succeeding in deep learning.\n"
      ]
    }
  ],
  "metadata": {
    "accelerator": "GPU",
    "colab": {
      "collapsed_sections": [
        "eW6dySzs9_r1",
        "iPRKkkig9_r2",
        "XH1CSkRV9_r8",
        "B9Xivz3j9_sD",
        "QYN6Dedt9_sF",
        "rUeMEeHa9_sJ",
        "Bx3f3t1q9_sJ",
        "sWU9hWb_9_sO",
        "N8NnkvgF9_sR",
        "038JB6i49_sZ",
        "ST0oDfsq9_sk"
      ],
      "name": "colab_05.ipynb",
      "provenance": [],
      "machine_shape": "hm",
      "gpuType": "A100",
      "include_colab_link": true
    },
    "kernelspec": {
      "display_name": "Python 3",
      "name": "python3"
    },
    "language_info": {
      "codemirror_mode": {
        "name": "ipython",
        "version": 3
      },
      "file_extension": ".py",
      "mimetype": "text/x-python",
      "name": "python",
      "nbconvert_exporter": "python",
      "pygments_lexer": "ipython3",
      "version": "3.9.6"
    },
    "toc": {
      "base_numbering": 1,
      "nav_menu": {},
      "number_sections": false,
      "sideBar": true,
      "skip_h1_title": false,
      "title_cell": "Table of Contents",
      "title_sidebar": "Contents",
      "toc_cell": false,
      "toc_position": {
        "height": "calc(100% - 180px)",
        "left": "10px",
        "top": "150px",
        "width": "254.39999389648438px"
      },
      "toc_section_display": true,
      "toc_window_display": false
    }
  },
  "nbformat": 4,
  "nbformat_minor": 0
}